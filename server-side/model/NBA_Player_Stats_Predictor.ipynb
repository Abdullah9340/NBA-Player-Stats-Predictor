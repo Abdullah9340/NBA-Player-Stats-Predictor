{
  "nbformat": 4,
  "nbformat_minor": 0,
  "metadata": {
    "colab": {
      "provenance": []
    },
    "kernelspec": {
      "name": "python3",
      "display_name": "Python 3"
    },
    "language_info": {
      "name": "python"
    }
  },
  "cells": [
    {
      "cell_type": "markdown",
      "source": [
        "**Imports**"
      ],
      "metadata": {
        "id": "cOx0NTFU0cF4"
      }
    },
    {
      "cell_type": "code",
      "execution_count": 102,
      "metadata": {
        "id": "Zcq-Tzm8w0kK"
      },
      "outputs": [],
      "source": [
        "import pandas as pd\n",
        "from sklearn.linear_model import BayesianRidge\n",
        "from sklearn.model_selection import train_test_split\n",
        "from sklearn.metrics import mean_absolute_error\n",
        "\n"
      ]
    },
    {
      "cell_type": "markdown",
      "source": [
        "**Pre-Process the Data**"
      ],
      "metadata": {
        "id": "88dptUcpy0tv"
      }
    },
    {
      "cell_type": "code",
      "source": [
        "X,Y = pd.read_csv(\"X.csv\", index_col=False), pd.read_csv(\"Y.csv\", index_col=False)\n",
        "X.drop(columns=[\"Player\",\"Year\", \"ORB\", \"DRB\", \"eFG%\", \"GS\", \"2P\", \"2PA\", \"2P%\"], inplace=True)\n",
        "Y.drop(columns=[\"Player\",\"Year\", \"ORB\", \"DRB\", \"eFG%\", \"GS\", \"2P\", \"2PA\", \"2P%\"], inplace=True)\n",
        "player_to_pos = {\n",
        "    'PG': 1,\n",
        "    'SG': 2,\n",
        "    'SF': 3,\n",
        "    'PF': 4,\n",
        "    'C' : 5\n",
        "}\n",
        "X['Pos'] = X['Pos'].apply(lambda x: player_to_pos[x.split('-')[0]])\n",
        "Y_PTS, Y_TRB, Y_AST = Y.PTS, Y.TRB, Y.AST\n",
        "X['3P%'] = X['3P%'].fillna(0)\n",
        "X_train_pts, X_test_pts, y_train_pts, y_test_pts = train_test_split(X, Y_PTS, test_size=0.2, random_state=8)\n",
        "X_train_trb, X_test_trb, y_train_trb, y_test_trb = train_test_split(X, Y_TRB, test_size=0.2, random_state=4)\n",
        "X_train_ast, X_test_ast, y_train_ast, y_test_ast = train_test_split(X, Y_AST, test_size=0.2, random_state=114)"
      ],
      "metadata": {
        "id": "ScWnYa-Ky52A"
      },
      "execution_count": 112,
      "outputs": []
    },
    {
      "cell_type": "markdown",
      "source": [
        "**Create and Fit Models**"
      ],
      "metadata": {
        "id": "XIQ02UkE1M1_"
      }
    },
    {
      "cell_type": "code",
      "source": [
        "points_model = BayesianRidge()\n",
        "points_model.fit(X_train_pts,y_train_pts)\n",
        "predicted_points_average = points_model.predict(X_test_pts)\n",
        "print(\"POINTS MEAN ABS ERROR: \", mean_absolute_error(y_test_pts, predicted_points_average))\n",
        "\n",
        "assists_model = BayesianRidge()\n",
        "assists_model.fit(X_train_ast,y_train_ast)\n",
        "predicted_assists_average = assists_model.predict(X_test_ast)\n",
        "print(\"ASSISTS MEAN ABS ERROR: \", mean_absolute_error(y_test_ast, predicted_assists_average))\n",
        "\n",
        "rebounds_model = BayesianRidge()\n",
        "rebounds_model.fit(X_train_trb,y_train_trb)\n",
        "predicted_rebounds_average = rebounds_model.predict(X_test_trb)\n",
        "print(\"REBOUNDS MEAN ABS ERROR: \", mean_absolute_error(y_test_trb, predicted_rebounds_average))"
      ],
      "metadata": {
        "colab": {
          "base_uri": "https://localhost:8080/"
        },
        "id": "nbyEW2ar1SFC",
        "outputId": "4eb12582-afae-4a3c-bf7e-d8038093015d"
      },
      "execution_count": 113,
      "outputs": [
        {
          "output_type": "stream",
          "name": "stdout",
          "text": [
            "POINTS MEAN ABS ERROR:  2.1440513532480785\n",
            "ASSISTS MEAN ABS ERROR:  0.5614459682846491\n",
            "REBOUNDS MEAN ABS ERROR:  0.8764251959045181\n"
          ]
        }
      ]
    },
    {
      "cell_type": "markdown",
      "source": [
        "**Export Models**"
      ],
      "metadata": {
        "id": "-DZx8v5v-T-h"
      }
    },
    {
      "cell_type": "code",
      "source": [
        "import pickle\n",
        "\n",
        "# Points\n",
        "with open('points.pkl', 'wb') as model_file:\n",
        "  pickle.dump(points_model, model_file)\n",
        "\n",
        "# Assists\n",
        "with open('assists.pkl', 'wb') as model_file:\n",
        "  pickle.dump(assists_model, model_file)\n",
        "\n",
        "# Rebounds\n",
        "with open('rebounds.pkl', 'wb') as model_file:\n",
        "  pickle.dump(rebounds_model, model_file)"
      ],
      "metadata": {
        "id": "QxhL6wxD-XYE"
      },
      "execution_count": 114,
      "outputs": []
    }
  ]
}